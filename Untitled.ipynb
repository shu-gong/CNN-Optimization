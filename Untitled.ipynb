{
 "cells": [
  {
   "cell_type": "code",
   "execution_count": 3,
   "id": "5db9fed7",
   "metadata": {
    "collapsed": true
   },
   "outputs": [
    {
     "ename": "KeyboardInterrupt",
     "evalue": "",
     "output_type": "error",
     "traceback": [
      "\u001b[1;31m---------------------------------------------------------------------------\u001b[0m",
      "\u001b[1;31mKeyboardInterrupt\u001b[0m                         Traceback (most recent call last)",
      "Input \u001b[1;32mIn [3]\u001b[0m, in \u001b[0;36m<cell line: 19>\u001b[1;34m()\u001b[0m\n\u001b[0;32m     20\u001b[0m \u001b[38;5;28;01mfor\u001b[39;00m Tj \u001b[38;5;129;01min\u001b[39;00m \u001b[38;5;28mrange\u001b[39m(\u001b[38;5;241m1\u001b[39m, \u001b[38;5;28mint\u001b[39m(Nj)\u001b[38;5;241m+\u001b[39m\u001b[38;5;241m1\u001b[39m):\n\u001b[0;32m     21\u001b[0m     \u001b[38;5;28;01mfor\u001b[39;00m Tk \u001b[38;5;129;01min\u001b[39;00m \u001b[38;5;28mrange\u001b[39m(\u001b[38;5;241m1\u001b[39m, \u001b[38;5;28mint\u001b[39m(Nk)\u001b[38;5;241m+\u001b[39m\u001b[38;5;241m1\u001b[39m):\n\u001b[1;32m---> 22\u001b[0m         \u001b[38;5;28;01mif\u001b[39;00m \u001b[43mconstraint\u001b[49m\u001b[43m(\u001b[49m\u001b[43mTi\u001b[49m\u001b[43m,\u001b[49m\u001b[43m \u001b[49m\u001b[43mTj\u001b[49m\u001b[43m,\u001b[49m\u001b[43m \u001b[49m\u001b[43mTk\u001b[49m\u001b[43m,\u001b[49m\u001b[43m \u001b[49m\u001b[43mC\u001b[49m\u001b[43m)\u001b[49m:\n\u001b[0;32m     23\u001b[0m             objective_value \u001b[38;5;241m=\u001b[39m objective(Ti, Tj, Tk, Nk, Ni, Nj)\n\u001b[0;32m     24\u001b[0m             \u001b[38;5;28;01mif\u001b[39;00m objective_value \u001b[38;5;241m<\u001b[39m best_objective_value:\n",
      "Input \u001b[1;32mIn [3]\u001b[0m, in \u001b[0;36mconstraint\u001b[1;34m(Ti, Tj, Tk, C)\u001b[0m\n\u001b[0;32m      6\u001b[0m \u001b[38;5;28;01mdef\u001b[39;00m \u001b[38;5;21mconstraint\u001b[39m(Ti, Tj, Tk, C):\n\u001b[1;32m----> 7\u001b[0m     \u001b[38;5;28;01mreturn\u001b[39;00m (\u001b[43mTi\u001b[49m\u001b[43m \u001b[49m\u001b[38;5;241;43m*\u001b[39;49m\u001b[43m \u001b[49m\u001b[43mTk\u001b[49m\u001b[43m \u001b[49m\u001b[38;5;241;43m+\u001b[39;49m\u001b[43m \u001b[49m\u001b[43mTj\u001b[49m\u001b[43m \u001b[49m\u001b[38;5;241;43m*\u001b[39;49m\u001b[43m \u001b[49m\u001b[43mTk\u001b[49m\u001b[43m \u001b[49m\u001b[38;5;241;43m+\u001b[39;49m\u001b[43m \u001b[49m\u001b[43mTi\u001b[49m\u001b[43m \u001b[49m\u001b[38;5;241;43m*\u001b[39;49m\u001b[43m \u001b[49m\u001b[43mTj\u001b[49m\u001b[43m \u001b[49m\u001b[38;5;241;43m<\u001b[39;49m\u001b[38;5;241;43m=\u001b[39;49m\u001b[43m \u001b[49m\u001b[43mC\u001b[49m)\n",
      "\u001b[1;31mKeyboardInterrupt\u001b[0m: "
     ]
    }
   ],
   "source": [
    "import numpy as np\n",
    "\n",
    "def objective(Ti, Tj, Tk, Nk, Ni, Nj):\n",
    "    return Nk * Ni * Nj * (1/Tj + 1/Ti + 1/Tk)\n",
    "\n",
    "def constraint(Ti, Tj, Tk, C):\n",
    "    return (Ti * Tk + Tj * Tk + Ti * Tj <= C)\n",
    "\n",
    "Nk = 16384\n",
    "Ni = 16384\n",
    "Nj = 16384\n",
    "C = 1024*1024\n",
    "\n",
    "best_objective_value = float('inf')\n",
    "best_Ti = None\n",
    "best_Tj = None\n",
    "best_Tk = None\n",
    "\n",
    "for Ti in range(1, int(Ni)+1):\n",
    "    for Tj in range(1, int(Nj)+1):\n",
    "        for Tk in range(1, int(Nk)+1):\n",
    "            if constraint(Ti, Tj, Tk, C):\n",
    "                objective_value = objective(Ti, Tj, Tk, Nk, Ni, Nj)\n",
    "                if objective_value < best_objective_value:\n",
    "                    best_objective_value = objective_value\n",
    "                    best_Ti = Ti\n",
    "                    best_Tj = Tj\n",
    "                    best_Tk = Tk\n",
    "\n",
    "print(\"Best values:\")\n",
    "print(\"Ti =\", best_Ti)\n",
    "print(\"Tj =\", best_Tj)\n",
    "print(\"Tk =\", best_Tk)\n",
    "print(\"Objective value =\", best_objective_value)"
   ]
  },
  {
   "cell_type": "code",
   "execution_count": null,
   "id": "f00799a3",
   "metadata": {},
   "outputs": [],
   "source": []
  }
 ],
 "metadata": {
  "kernelspec": {
   "display_name": "Python 3 (ipykernel)",
   "language": "python",
   "name": "python3"
  },
  "language_info": {
   "codemirror_mode": {
    "name": "ipython",
    "version": 3
   },
   "file_extension": ".py",
   "mimetype": "text/x-python",
   "name": "python",
   "nbconvert_exporter": "python",
   "pygments_lexer": "ipython3",
   "version": "3.9.12"
  }
 },
 "nbformat": 4,
 "nbformat_minor": 5
}
