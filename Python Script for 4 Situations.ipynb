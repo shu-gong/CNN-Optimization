{
 "cells": [
  {
   "cell_type": "markdown",
   "id": "7bef3983",
   "metadata": {},
   "source": [
    "### C = 1 MB"
   ]
  },
  {
   "cell_type": "code",
   "execution_count": null,
   "id": "5db9fed7",
   "metadata": {},
   "outputs": [],
   "source": [
    "import numpy as np\n",
    "\n",
    "def objective(Ti, Tj, Tk, Nk, Ni, Nj):\n",
    "    return Nk * Ni * Nj * (1/Tj + 1/Ti + 1/Tk)\n",
    "\n",
    "def constraint(Ti, Tj, Tk, C):\n",
    "    return (Ti * Tk + Tj * Tk + Ti * Tj <= C)\n",
    "\n",
    "Nk = 16384\n",
    "Ni = 16384\n",
    "Nj = 16384\n",
    "Step = 32\n",
    "C = 1*1024*1024 #1 MB\n",
    "\n",
    "best_objective_value = float('inf')\n",
    "best_Ti = None\n",
    "best_Tj = None\n",
    "best_Tk = None\n",
    "\n",
    "for Ti in range(1, int(Ni)+1, Step):\n",
    "    for Tj in range(1, int(Nj)+1, Step):\n",
    "        for Tk in range(1, int(Nk)+1, Step):\n",
    "            if constraint(Ti, Tj, Tk, C):\n",
    "                objective_value = objective(Ti, Tj, Tk, Nk, Ni, Nj)\n",
    "                if objective_value < best_objective_value:\n",
    "                    best_objective_value = objective_value\n",
    "                    best_Ti = Ti\n",
    "                    best_Tj = Tj\n",
    "                    best_Tk = Tk\n",
    "\n",
    "print(\"Best values:\")\n",
    "print(\"Ti =\" +str(best_Ti/1024)+ \" KB\")\n",
    "print(\"Tj =\" +str(best_Tj/1024)+ \" KB\")\n",
    "print(\"Tk =\" +str(best_Tk/1024)+ \" KB\")\n",
    "print(\"Cache Used = \" + str(best_Ti*best_Tj + best_Tj*best_Tk + best_Ti*best_Tj))\n",
    "print(\"Objective value =\" + str(best_objective_value/(1024*1024)) + \" MB\")"
   ]
  },
  {
   "cell_type": "markdown",
   "id": "aa95ebf5",
   "metadata": {},
   "source": [
    "### C = 16 MB"
   ]
  },
  {
   "cell_type": "code",
   "execution_count": 28,
   "id": "e16cba34",
   "metadata": {},
   "outputs": [
    {
     "name": "stdout",
     "output_type": "stream",
     "text": [
      "Best values:\n",
      "Ti =2.2822265625 KB\n",
      "Tj =2.3134765625 KB\n",
      "Tk =2.3134765625 KB\n",
      "Objective value =5335.729689201537 MB\n"
     ]
    }
   ],
   "source": [
    "import numpy as np\n",
    "\n",
    "def objective(Ti, Tj, Tk, Nk, Ni, Nj):\n",
    "    return Nk * Ni * Nj * (1/Tj + 1/Ti + 1/Tk)\n",
    "\n",
    "def constraint(Ti, Tj, Tk, C):\n",
    "    return (Ti * Tk + Tj * Tk + Ti * Tj <= C)\n",
    "\n",
    "Nk = 16384\n",
    "Ni = 16384\n",
    "Nj = 16384\n",
    "Step = 32\n",
    "C = 16*1024*1024 #16 MB\n",
    "\n",
    "best_objective_value = float('inf')\n",
    "best_Ti = None\n",
    "best_Tj = None\n",
    "best_Tk = None\n",
    "\n",
    "for Ti in range(1, int(Ni)+1, Step):\n",
    "    for Tj in range(1, int(Nj)+1, Step):\n",
    "        for Tk in range(1, int(Nk)+1, Step):\n",
    "            if constraint(Ti, Tj, Tk, C):\n",
    "                objective_value = objective(Ti, Tj, Tk, Nk, Ni, Nj)\n",
    "                if objective_value < best_objective_value:\n",
    "                    best_objective_value = objective_value\n",
    "                    best_Ti = Ti\n",
    "                    best_Tj = Tj\n",
    "                    best_Tk = Tk\n",
    "\n",
    "print(\"Best values:\")\n",
    "print(\"Ti =\" +str(best_Ti/1024)+ \" KB\")\n",
    "print(\"Tj =\" +str(best_Tj/1024)+ \" KB\")\n",
    "print(\"Tk =\" +str(best_Tk/1024)+ \" KB\")\n",
    "print(\"Objective value =\" + str(best_objective_value/(1024*1024)) + \" MB\")"
   ]
  },
  {
   "cell_type": "markdown",
   "id": "7a32d178",
   "metadata": {},
   "source": [
    "### C = 512 MB"
   ]
  },
  {
   "cell_type": "code",
   "execution_count": 31,
   "id": "fcdd9139",
   "metadata": {},
   "outputs": [
    {
     "name": "stdout",
     "output_type": "stream",
     "text": [
      "Best values:\n",
      "Ti =13.0009765625 KB\n",
      "Tj =13.0009765625 KB\n",
      "Tk =13.1259765625 KB\n",
      "Objective value =942.1594846805466 MB\n"
     ]
    }
   ],
   "source": [
    "import numpy as np\n",
    "\n",
    "def objective(Ti, Tj, Tk, Nk, Ni, Nj):\n",
    "    return Nk * Ni * Nj * (1/Tj + 1/Ti + 1/Tk)\n",
    "\n",
    "def constraint(Ti, Tj, Tk, C):\n",
    "    return (Ti * Tk + Tj * Tk + Ti * Tj <= C)\n",
    "\n",
    "Nk = 16384\n",
    "Ni = 16384\n",
    "Nj = 16384\n",
    "Step = 128\n",
    "C = 512*1024*1024 #512 MB\n",
    "\n",
    "best_objective_value = float('inf')\n",
    "best_Ti = None\n",
    "best_Tj = None\n",
    "best_Tk = None\n",
    "\n",
    "for Ti in range(1, int(Ni)+1, Step):\n",
    "    for Tj in range(1, int(Nj)+1, Step):\n",
    "        for Tk in range(1, int(Nk)+1, Step):\n",
    "            if constraint(Ti, Tj, Tk, C):\n",
    "                objective_value = objective(Ti, Tj, Tk, Nk, Ni, Nj)\n",
    "                if objective_value < best_objective_value:\n",
    "                    best_objective_value = objective_value\n",
    "                    best_Ti = Ti\n",
    "                    best_Tj = Tj\n",
    "                    best_Tk = Tk\n",
    "\n",
    "print(\"Best values:\")\n",
    "print(\"Ti =\" +str(best_Ti/1024)+ \" KB\")\n",
    "print(\"Tj =\" +str(best_Tj/1024)+ \" KB\")\n",
    "print(\"Tk =\" +str(best_Tk/1024)+ \" KB\")\n",
    "print(\"Objective value =\" + str(best_objective_value/(1024*1024)) + \" MB\")"
   ]
  },
  {
   "cell_type": "markdown",
   "id": "f8b3f88e",
   "metadata": {},
   "source": [
    "### C = 1024 MB"
   ]
  },
  {
   "cell_type": "code",
   "execution_count": 32,
   "id": "7b99f066",
   "metadata": {},
   "outputs": [
    {
     "name": "stdout",
     "output_type": "stream",
     "text": [
      "Best values:\n",
      "Ti =15.8759765625 KB\n",
      "Tj =15.8759765625 KB\n",
      "Tk =15.8759765625 KB\n",
      "Objective value =773.9996309282155 MB\n"
     ]
    }
   ],
   "source": [
    "import numpy as np\n",
    "\n",
    "def objective(Ti, Tj, Tk, Nk, Ni, Nj):\n",
    "    return Nk * Ni * Nj * (1/Tj + 1/Ti + 1/Tk)\n",
    "\n",
    "def constraint(Ti, Tj, Tk, C):\n",
    "    return (Ti * Tk + Tj * Tk + Ti * Tj <= C)\n",
    "\n",
    "Nk = 16384\n",
    "Ni = 16384\n",
    "Nj = 16384\n",
    "Step = 128\n",
    "C = 1024*1024*1024 #1024 MB\n",
    "\n",
    "best_objective_value = float('inf')\n",
    "best_Ti = None\n",
    "best_Tj = None\n",
    "best_Tk = None\n",
    "\n",
    "for Ti in range(1, int(Ni)+1, Step):\n",
    "    for Tj in range(1, int(Nj)+1, Step):\n",
    "        for Tk in range(1, int(Nk)+1, Step):\n",
    "            if constraint(Ti, Tj, Tk, C):\n",
    "                objective_value = objective(Ti, Tj, Tk, Nk, Ni, Nj)\n",
    "                if objective_value < best_objective_value:\n",
    "                    best_objective_value = objective_value\n",
    "                    best_Ti = Ti\n",
    "                    best_Tj = Tj\n",
    "                    best_Tk = Tk\n",
    "\n",
    "print(\"Best values:\")\n",
    "print(\"Ti =\" +str(best_Ti/1024)+ \" KB\")\n",
    "print(\"Tj =\" +str(best_Tj/1024)+ \" KB\")\n",
    "print(\"Tk =\" +str(best_Tk/1024)+ \" KB\")\n",
    "print(\"Objective value =\" + str(best_objective_value/(1024*1024)) + \" MB\")"
   ]
  },
  {
   "cell_type": "code",
   "execution_count": null,
   "id": "947fbe1a",
   "metadata": {},
   "outputs": [],
   "source": []
  }
 ],
 "metadata": {
  "kernelspec": {
   "display_name": "Python 3 (ipykernel)",
   "language": "python",
   "name": "python3"
  },
  "language_info": {
   "codemirror_mode": {
    "name": "ipython",
    "version": 3
   },
   "file_extension": ".py",
   "mimetype": "text/x-python",
   "name": "python",
   "nbconvert_exporter": "python",
   "pygments_lexer": "ipython3",
   "version": "3.9.12"
  }
 },
 "nbformat": 4,
 "nbformat_minor": 5
}
